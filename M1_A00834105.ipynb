{
  "nbformat": 4,
  "nbformat_minor": 0,
  "metadata": {
    "colab": {
      "provenance": []
    },
    "kernelspec": {
      "name": "python3",
      "display_name": "Python 3"
    },
    "language_info": {
      "name": "python"
    }
  },
  "cells": [
    {
      "cell_type": "code",
      "execution_count": null,
      "metadata": {
        "id": "SX63sr-QFEKe"
      },
      "outputs": [],
      "source": [
        "import numpy as np\n",
        "import matplotlib.pyplot as plt\n",
        "\n",
        "def simulate(rows, cols, num_agents, dirty_percentage, max_time):\n",
        "    environment = initialize_environment(rows, cols, dirty_percentage)\n",
        "    agents_positions = [(0, 0) for _ in range(num_agents)]\n",
        "    time = 0\n",
        "\n",
        "    while time < max_time and np.any(environment == 1):\n",
        "        for i in range(num_agents):\n",
        "            agent_position = agents_positions[i]\n",
        "\n",
        "            if 0 <= agent_position[0] < rows and 0 <= agent_position[1] < cols:\n",
        "                if environment[agent_position] == 1:\n",
        "                    environment[agent_position] = 0  # Clean the cell\n",
        "                    time += 1\n",
        "\n",
        "                new_position = move_agent(agent_position)\n",
        "                agents_positions[i] = new_position\n",
        "\n",
        "        time += 1\n",
        "\n",
        "    cleaned_percentage = np.sum(environment == 0) / (rows * cols) * 100\n",
        "    total_moves = time * num_agents\n",
        "\n",
        "    return time, cleaned_percentage, total_moves\n",
        "\n",
        "# Parámetros de la simulación\n",
        "rows = 5\n",
        "cols = 5\n",
        "num_agents = 6\n",
        "dirty_percentage = 0.2\n",
        "max_time = 60\n",
        "\n",
        "# Simulación\n",
        "time_needed, cleaned_percentage, total_moves = simulate(rows, cols, num_agents, dirty_percentage, max_time)\n",
        "\n",
        "# Resultados\n",
        "print(f\"Tiempo necesario: {time_needed} unidades de tiempo\")\n",
        "print(f\"Porcentaje de celdas limpias: {cleaned_percentage}%\")\n",
        "print(f\"Número total de movimientos: {total_moves}\")"
      ]
    }
  ]
}